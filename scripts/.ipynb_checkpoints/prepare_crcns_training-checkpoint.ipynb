{
 "cells": [
  {
   "cell_type": "code",
   "execution_count": 2,
   "id": "9a253528-33e5-4b06-aa3a-7ec235e1ffd1",
   "metadata": {
    "collapsed": false
   },
   "outputs": [
    {
     "ename": "ModuleNotFoundError",
     "evalue": "No module named 'neurnn'",
     "output_type": "error",
     "traceback": [
      "\u001b[0;31m---------------------------------------------------------------------------\u001b[0m",
      "\u001b[0;31mModuleNotFoundError\u001b[0m                       Traceback (most recent call last)",
      "Cell \u001b[0;32mIn[2], line 2\u001b[0m\n\u001b[1;32m      1\u001b[0m \u001b[38;5;28;01mimport\u001b[39;00m \u001b[38;5;21;01mpandas\u001b[39;00m \u001b[38;5;28;01mas\u001b[39;00m \u001b[38;5;21;01mpd\u001b[39;00m\n\u001b[0;32m----> 2\u001b[0m \u001b[38;5;28;01mfrom\u001b[39;00m \u001b[38;5;21;01mneurnn\u001b[39;00m\u001b[38;5;21;01m.\u001b[39;00m\u001b[38;5;21;01mio\u001b[39;00m \u001b[38;5;28;01mimport\u001b[39;00m get_df_for_challenge, save_data_in_training_format\n",
      "\u001b[0;31mModuleNotFoundError\u001b[0m: No module named 'neurnn'"
     ]
    }
   ],
   "source": [
    "import pandas as pd\n",
    "from neurnn.io import get_df_for_challenge, save_data_in_training_format"
   ]
  },
  {
   "cell_type": "code",
   "execution_count": null,
   "id": "af5b56cb-6557-4581-827a-bb215aeff631",
   "metadata": {
    "collapsed": false
   },
   "outputs": [],
   "source": [
    "\n",
    "datafolder = '/home/mark/Development/Python/CRCNS/crcns_challenge/crcns-ch-epfl-2009-challengeA/crcns-ch-epfl-2009-challengeA'\n",
    "challengename = 'crcns-ch-epfl-2009-challengeA'\n",
    "time_points_file = \"/home/mark/Development/Python/CRCNS/crcns_challenge/challengeA_input_times.csv\"\n",
    "total_time_in_seconds = 60\n",
    "time_points = pd.read_csv('%s/%s' % (datafolder, time_points_file), header=0, sep=\",\", skipinitialspace=True)\n"
   ]
  },
  {
   "cell_type": "code",
   "execution_count": null,
   "id": "ded8b455-a724-43a4-b51d-86d2ec482572",
   "metadata": {
    "collapsed": false
   },
   "outputs": [],
   "source": [
    "df = get_df_for_challenge(datafolder, challengename, total_time_in_seconds)\n",
    "\n",
    "poisson_start = time_points[time_points[\"type\"] == \"spike_trains_train\"][\"start\"].values[0]\n",
    "poisson_end = time_points[time_points[\"type\"] == \"spike_trains_train\"][\"end\"].values[0]\n",
    "\n",
    "train_start = poisson_start\n",
    "train_end = poisson_start + 0.9 * (poisson_start-poisson_end)\n",
    "test_start = train_end\n",
    "test_end = poisson_end\n",
    "\n",
    "filename = \"challengeA.hdf5\"\n",
    "\n",
    "pdidx = pd.IndexSlice\n",
    "\n",
    "train_df = df.loc[pdidx[train_start:train_end]]\n",
    "test_df = df.loc[pdidx[test_start:test_end]]"
   ]
  },
  {
   "cell_type": "code",
   "execution_count": null,
   "id": "6ecc6ce2-17f2-480e-8608-d81323564eaf",
   "metadata": {
    "collapsed": false
   },
   "outputs": [],
   "source": [
    "\n",
    "save_data_in_training_format(filename, train_df[\"t\"].values, train_df[\"I\"].values, train_df[0].values, [], \"train\",\n",
    "                             [\"t\", \"I\", \"V\"], \"w\")\n",
    "save_data_in_training_format(filename, test_df[\"t\"].values, test_df[\"I\"].values, test_df[0].values, [], \"test\",\n",
    "                             [\"t\", \"I\", \"V\"], \"a\")\n"
   ]
  }
 ],
 "metadata": {
  "kernelspec": {
   "argv": [
    "python",
    "-m",
    "ipykernel_launcher",
    "-f",
    "{connection_file}"
   ],
   "display_name": "Python 3 (ipykernel)",
   "env": null,
   "interrupt_mode": "signal",
   "language": "python",
   "metadata": {
    "debugger": true
   },
   "name": "python3"
  },
  "name": "prepare_crcns_training.ipynb"
 },
 "nbformat": 4,
 "nbformat_minor": 5
}
